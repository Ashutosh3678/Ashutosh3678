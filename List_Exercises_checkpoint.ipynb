{
  "cells": [
    {
      "cell_type": "markdown",
      "metadata": {
        "id": "mGMtzn1Uk3nS"
      },
      "source": [
        "### List example"
      ]
    },
    {
      "cell_type": "code",
      "execution_count": null,
      "metadata": {
        "id": "H9_xzCIpk3nV"
      },
      "outputs": [],
      "source": [
        "list_example = [51, 27, 34, 46, 90, 45, -19]"
      ]
    },
    {
      "cell_type": "code",
      "execution_count": null,
      "metadata": {
        "colab": {
          "base_uri": "https://localhost:8080/"
        },
        "id": "N1c6MW5ok3nW",
        "outputId": "68554580-26f7-4ab7-bcda-3fd12ff8af44"
      },
      "outputs": [
        {
          "output_type": "execute_result",
          "data": {
            "text/plain": [
              "[51, 27, 34, 46, 90, 45, -19]"
            ]
          },
          "metadata": {},
          "execution_count": 2
        }
      ],
      "source": [
        "list_example"
      ]
    },
    {
      "cell_type": "code",
      "execution_count": null,
      "metadata": {
        "id": "Z6UiNiAYk3nW"
      },
      "outputs": [],
      "source": [
        "list_example2 = [15, \"Yellow car\", True, 9.456, [12, \"Hello\"]]"
      ]
    },
    {
      "cell_type": "code",
      "execution_count": null,
      "metadata": {
        "colab": {
          "base_uri": "https://localhost:8080/"
        },
        "id": "8zVO8wa5k3nX",
        "outputId": "68482b33-1875-49ba-9e27-f3365096771e"
      },
      "outputs": [
        {
          "output_type": "execute_result",
          "data": {
            "text/plain": [
              "[15, 'Yellow car', True, 9.456, [12, 'Hello']]"
            ]
          },
          "metadata": {},
          "execution_count": 4
        }
      ],
      "source": [
        "list_example2"
      ]
    },
    {
      "cell_type": "markdown",
      "metadata": {
        "id": "ByqWZAuhk3nX"
      },
      "source": [
        "### Exercise 1"
      ]
    },
    {
      "cell_type": "code",
      "execution_count": null,
      "metadata": {
        "id": "phDtRO-Tk3nX"
      },
      "outputs": [],
      "source": [
        "list_1 = [34, 12, 89, 1]"
      ]
    },
    {
      "cell_type": "code",
      "execution_count": null,
      "metadata": {
        "colab": {
          "base_uri": "https://localhost:8080/"
        },
        "id": "uXT8xq5lk3nY",
        "outputId": "887ecd41-c411-4e09-88a1-7e33b484004f"
      },
      "outputs": [
        {
          "output_type": "stream",
          "name": "stdout",
          "text": [
            "list_1[0]=>34\n",
            "list_1[1]=>12\n",
            "list_1[2]=>89\n",
            "list_1[3]=>1\n"
          ]
        }
      ],
      "source": [
        "for i, element in enumerate(list_1):\n",
        "    print(\"list_1[{}]=>{}\".format(i, element))"
      ]
    },
    {
      "cell_type": "code",
      "execution_count": null,
      "metadata": {
        "colab": {
          "base_uri": "https://localhost:8080/"
        },
        "id": "e1bBr7rzk3nY",
        "outputId": "b679a82e-3b42-4664-9478-f4427fef3f1a"
      },
      "outputs": [
        {
          "output_type": "execute_result",
          "data": {
            "text/plain": [
              "34"
            ]
          },
          "metadata": {},
          "execution_count": 7
        }
      ],
      "source": [
        "list_1[0]"
      ]
    },
    {
      "cell_type": "code",
      "execution_count": null,
      "metadata": {
        "colab": {
          "base_uri": "https://localhost:8080/"
        },
        "id": "1K73RWCck3nZ",
        "outputId": "47714751-bb81-4204-cd89-2d100db0b58b"
      },
      "outputs": [
        {
          "output_type": "execute_result",
          "data": {
            "text/plain": [
              "1"
            ]
          },
          "metadata": {},
          "execution_count": 8
        }
      ],
      "source": [
        "list_1[3]"
      ]
    },
    {
      "cell_type": "code",
      "execution_count": null,
      "metadata": {
        "colab": {
          "base_uri": "https://localhost:8080/"
        },
        "id": "B5ByFR_Dk3nZ",
        "outputId": "6b7e23c4-a0c0-4e58-823a-6faa7dd21a26"
      },
      "outputs": [
        {
          "output_type": "execute_result",
          "data": {
            "text/plain": [
              "1"
            ]
          },
          "metadata": {},
          "execution_count": 9
        }
      ],
      "source": [
        "list_1[len(list_1) - 1]"
      ]
    },
    {
      "cell_type": "code",
      "execution_count": null,
      "metadata": {
        "colab": {
          "base_uri": "https://localhost:8080/"
        },
        "id": "zGi4nJiok3nZ",
        "outputId": "fd95f451-3c4b-44d4-f77f-142063b00af6"
      },
      "outputs": [
        {
          "output_type": "execute_result",
          "data": {
            "text/plain": [
              "1"
            ]
          },
          "metadata": {},
          "execution_count": 10
        }
      ],
      "source": [
        "list_1[-1]"
      ]
    },
    {
      "cell_type": "code",
      "execution_count": null,
      "metadata": {
        "colab": {
          "base_uri": "https://localhost:8080/"
        },
        "id": "LWo38JzEk3na",
        "outputId": "c8a2a2b8-d1e4-440a-ff01-55ddaff86394"
      },
      "outputs": [
        {
          "output_type": "execute_result",
          "data": {
            "text/plain": [
              "[12, 89]"
            ]
          },
          "metadata": {},
          "execution_count": 11
        }
      ],
      "source": [
        "list_1[1:3]"
      ]
    },
    {
      "cell_type": "code",
      "execution_count": null,
      "metadata": {
        "colab": {
          "base_uri": "https://localhost:8080/"
        },
        "id": "EOZrFChyk3na",
        "outputId": "516e92a2-e633-4af1-c1e7-62631fd12dd2"
      },
      "outputs": [
        {
          "output_type": "execute_result",
          "data": {
            "text/plain": [
              "[89, 1]"
            ]
          },
          "metadata": {},
          "execution_count": 12
        }
      ],
      "source": [
        "list_1[-2:]"
      ]
    },
    {
      "cell_type": "code",
      "execution_count": null,
      "metadata": {
        "colab": {
          "base_uri": "https://localhost:8080/"
        },
        "id": "Hi3JxoMOk3na",
        "outputId": "96bd85dc-0df1-4b20-de10-7a98cbfe4088"
      },
      "outputs": [
        {
          "output_type": "execute_result",
          "data": {
            "text/plain": [
              "[34, 12]"
            ]
          },
          "metadata": {},
          "execution_count": 13
        }
      ],
      "source": [
        "list_1[:-2]"
      ]
    },
    {
      "cell_type": "code",
      "execution_count": null,
      "metadata": {
        "colab": {
          "base_uri": "https://localhost:8080/"
        },
        "id": "ZZTPz0x0k3na",
        "outputId": "2811dfbc-fe3d-4a6b-cebb-fbdc72ff5482"
      },
      "outputs": [
        {
          "output_type": "execute_result",
          "data": {
            "text/plain": [
              "[1, 89, 12, 34]"
            ]
          },
          "metadata": {},
          "execution_count": 14
        }
      ],
      "source": [
        "list_1[-1::-1]"
      ]
    },
    {
      "cell_type": "markdown",
      "metadata": {
        "id": "dWoqAYg0k3nb"
      },
      "source": [
        "### Exercise 2"
      ]
    },
    {
      "cell_type": "code",
      "execution_count": null,
      "metadata": {
        "id": "RF79VTOuk3nb"
      },
      "outputs": [],
      "source": [
        "list_1 = []\n",
        "for x in range(0, 100):\n",
        "    list_1.append(x)"
      ]
    },
    {
      "cell_type": "code",
      "execution_count": null,
      "metadata": {
        "colab": {
          "base_uri": "https://localhost:8080/"
        },
        "id": "V2kqR3yMk3nb",
        "outputId": "ee0cb943-04b7-44df-f4a5-553284c6b5b9"
      },
      "outputs": [
        {
          "output_type": "execute_result",
          "data": {
            "text/plain": [
              "[0,\n",
              " 1,\n",
              " 2,\n",
              " 3,\n",
              " 4,\n",
              " 5,\n",
              " 6,\n",
              " 7,\n",
              " 8,\n",
              " 9,\n",
              " 10,\n",
              " 11,\n",
              " 12,\n",
              " 13,\n",
              " 14,\n",
              " 15,\n",
              " 16,\n",
              " 17,\n",
              " 18,\n",
              " 19,\n",
              " 20,\n",
              " 21,\n",
              " 22,\n",
              " 23,\n",
              " 24,\n",
              " 25,\n",
              " 26,\n",
              " 27,\n",
              " 28,\n",
              " 29,\n",
              " 30,\n",
              " 31,\n",
              " 32,\n",
              " 33,\n",
              " 34,\n",
              " 35,\n",
              " 36,\n",
              " 37,\n",
              " 38,\n",
              " 39,\n",
              " 40,\n",
              " 41,\n",
              " 42,\n",
              " 43,\n",
              " 44,\n",
              " 45,\n",
              " 46,\n",
              " 47,\n",
              " 48,\n",
              " 49,\n",
              " 50,\n",
              " 51,\n",
              " 52,\n",
              " 53,\n",
              " 54,\n",
              " 55,\n",
              " 56,\n",
              " 57,\n",
              " 58,\n",
              " 59,\n",
              " 60,\n",
              " 61,\n",
              " 62,\n",
              " 63,\n",
              " 64,\n",
              " 65,\n",
              " 66,\n",
              " 67,\n",
              " 68,\n",
              " 69,\n",
              " 70,\n",
              " 71,\n",
              " 72,\n",
              " 73,\n",
              " 74,\n",
              " 75,\n",
              " 76,\n",
              " 77,\n",
              " 78,\n",
              " 79,\n",
              " 80,\n",
              " 81,\n",
              " 82,\n",
              " 83,\n",
              " 84,\n",
              " 85,\n",
              " 86,\n",
              " 87,\n",
              " 88,\n",
              " 89,\n",
              " 90,\n",
              " 91,\n",
              " 92,\n",
              " 93,\n",
              " 94,\n",
              " 95,\n",
              " 96,\n",
              " 97,\n",
              " 98,\n",
              " 99]"
            ]
          },
          "metadata": {},
          "execution_count": 16
        }
      ],
      "source": [
        "list_1"
      ]
    },
    {
      "cell_type": "code",
      "execution_count": null,
      "metadata": {
        "colab": {
          "base_uri": "https://localhost:8080/"
        },
        "id": "I3gYuLn4k3nb",
        "outputId": "9691db18-e4e8-47fb-bea7-a63a683c0454"
      },
      "outputs": [
        {
          "output_type": "execute_result",
          "data": {
            "text/plain": [
              "[0,\n",
              " 1,\n",
              " 2,\n",
              " 3,\n",
              " 4,\n",
              " 5,\n",
              " 6,\n",
              " 7,\n",
              " 8,\n",
              " 9,\n",
              " 10,\n",
              " 11,\n",
              " 12,\n",
              " 13,\n",
              " 14,\n",
              " 15,\n",
              " 16,\n",
              " 17,\n",
              " 18,\n",
              " 19,\n",
              " 20,\n",
              " 21,\n",
              " 22,\n",
              " 23,\n",
              " 24,\n",
              " 25,\n",
              " 26,\n",
              " 27,\n",
              " 28,\n",
              " 29,\n",
              " 30,\n",
              " 31,\n",
              " 32,\n",
              " 33,\n",
              " 34,\n",
              " 35,\n",
              " 36,\n",
              " 37,\n",
              " 38,\n",
              " 39,\n",
              " 40,\n",
              " 41,\n",
              " 42,\n",
              " 43,\n",
              " 44,\n",
              " 45,\n",
              " 46,\n",
              " 47,\n",
              " 48,\n",
              " 49,\n",
              " 50,\n",
              " 51,\n",
              " 52,\n",
              " 53,\n",
              " 54,\n",
              " 55,\n",
              " 56,\n",
              " 57,\n",
              " 58,\n",
              " 59,\n",
              " 60,\n",
              " 61,\n",
              " 62,\n",
              " 63,\n",
              " 64,\n",
              " 65,\n",
              " 66,\n",
              " 67,\n",
              " 68,\n",
              " 69,\n",
              " 70,\n",
              " 71,\n",
              " 72,\n",
              " 73,\n",
              " 74,\n",
              " 75,\n",
              " 76,\n",
              " 77,\n",
              " 78,\n",
              " 79,\n",
              " 80,\n",
              " 81,\n",
              " 82,\n",
              " 83,\n",
              " 84,\n",
              " 85,\n",
              " 86,\n",
              " 87,\n",
              " 88,\n",
              " 89,\n",
              " 90,\n",
              " 91,\n",
              " 92,\n",
              " 93,\n",
              " 94,\n",
              " 95,\n",
              " 96,\n",
              " 97,\n",
              " 98,\n",
              " 99]"
            ]
          },
          "metadata": {},
          "execution_count": 17
        }
      ],
      "source": [
        "list_1 = [x for x in range(0, 100)]\n",
        "list_1"
      ]
    },
    {
      "cell_type": "code",
      "execution_count": null,
      "metadata": {
        "id": "l5AEQ-M4k3nb"
      },
      "outputs": [],
      "source": [
        "list_1 = [x for x in range(0, 100) if x % 5 == 0]"
      ]
    },
    {
      "cell_type": "code",
      "execution_count": null,
      "metadata": {
        "colab": {
          "base_uri": "https://localhost:8080/"
        },
        "id": "XYoXnfw8k3nb",
        "outputId": "5e0d02a8-c6e7-49fc-afb0-32bde85ed4e8"
      },
      "outputs": [
        {
          "output_type": "execute_result",
          "data": {
            "text/plain": [
              "[0, 5, 10, 15, 20, 25, 30, 35, 40, 45, 50, 55, 60, 65, 70, 75, 80, 85, 90, 95]"
            ]
          },
          "metadata": {},
          "execution_count": 19
        }
      ],
      "source": [
        "list_1"
      ]
    },
    {
      "cell_type": "code",
      "execution_count": null,
      "metadata": {
        "colab": {
          "base_uri": "https://localhost:8080/"
        },
        "id": "ms5hJdSUk3nc",
        "outputId": "355322b3-7339-45e5-c5ce-d12641c05cd5"
      },
      "outputs": [
        {
          "output_type": "execute_result",
          "data": {
            "text/plain": [
              "[1, 4, 56, -1, 1, 39, 245, -23, 0, 45]"
            ]
          },
          "metadata": {},
          "execution_count": 20
        }
      ],
      "source": [
        "list_1 = [1, 4, 56, -1]\n",
        "list_2 = [1, 39, 245, -23, 0, 45]\n",
        "list_3 = list_1 + list_2\n",
        "list_3"
      ]
    },
    {
      "cell_type": "code",
      "execution_count": null,
      "metadata": {
        "colab": {
          "base_uri": "https://localhost:8080/"
        },
        "id": "NoADMfprk3nc",
        "outputId": "f0059477-193b-4d29-f63b-9b1b30747895"
      },
      "outputs": [
        {
          "output_type": "execute_result",
          "data": {
            "text/plain": [
              "[1, 4, 56, -1]"
            ]
          },
          "metadata": {},
          "execution_count": 21
        }
      ],
      "source": [
        "list_1"
      ]
    },
    {
      "cell_type": "code",
      "execution_count": null,
      "metadata": {
        "id": "EshzQa45k3nc"
      },
      "outputs": [],
      "source": [
        "list_1.extend(list_2)"
      ]
    },
    {
      "cell_type": "code",
      "execution_count": null,
      "metadata": {
        "colab": {
          "base_uri": "https://localhost:8080/"
        },
        "id": "xKalOUdZk3nc",
        "outputId": "8f7236f4-c381-48e2-afa9-ce857c9b09e2"
      },
      "outputs": [
        {
          "output_type": "execute_result",
          "data": {
            "text/plain": [
              "[1, 4, 56, -1, 1, 39, 245, -23, 0, 45]"
            ]
          },
          "metadata": {},
          "execution_count": 23
        }
      ],
      "source": [
        "list_1  # In place change"
      ]
    },
    {
      "cell_type": "markdown",
      "metadata": {
        "id": "xKxwsUFEk3nc"
      },
      "source": [
        "### Eercise 3"
      ]
    },
    {
      "cell_type": "code",
      "execution_count": null,
      "metadata": {
        "colab": {
          "base_uri": "https://localhost:8080/"
        },
        "id": "r30rfzR-k3nd",
        "outputId": "c6fad4fa-a1ae-4188-f284-663b3988dae6"
      },
      "outputs": [
        {
          "output_type": "stream",
          "name": "stdout",
          "text": [
            "0\n",
            "1\n",
            "2\n",
            "3\n",
            "4\n",
            "5\n",
            "6\n",
            "7\n",
            "8\n",
            "9\n",
            "10\n",
            "11\n",
            "12\n",
            "13\n",
            "14\n",
            "15\n",
            "16\n",
            "17\n",
            "18\n",
            "19\n",
            "20\n",
            "21\n",
            "22\n",
            "23\n",
            "24\n",
            "25\n",
            "26\n",
            "27\n",
            "28\n",
            "29\n",
            "30\n",
            "31\n",
            "32\n",
            "33\n",
            "34\n",
            "35\n",
            "36\n",
            "37\n",
            "38\n",
            "39\n",
            "40\n",
            "41\n",
            "42\n",
            "43\n",
            "44\n",
            "45\n",
            "46\n",
            "47\n",
            "48\n",
            "49\n",
            "50\n",
            "51\n",
            "52\n",
            "53\n",
            "54\n",
            "55\n",
            "56\n",
            "57\n",
            "58\n",
            "59\n",
            "60\n",
            "61\n",
            "62\n",
            "63\n",
            "64\n",
            "65\n",
            "66\n",
            "67\n",
            "68\n",
            "69\n",
            "70\n",
            "71\n",
            "72\n",
            "73\n",
            "74\n",
            "75\n",
            "76\n",
            "77\n",
            "78\n",
            "79\n",
            "80\n",
            "81\n",
            "82\n",
            "83\n",
            "84\n",
            "85\n",
            "86\n",
            "87\n",
            "88\n",
            "89\n",
            "90\n",
            "91\n",
            "92\n",
            "93\n",
            "94\n",
            "95\n",
            "96\n",
            "97\n",
            "98\n",
            "99\n"
          ]
        }
      ],
      "source": [
        "list_1 = [x for x in range(0, 100)]\n",
        "for i in range(0, len(list_1)):\n",
        "    print(list_1[i])"
      ]
    },
    {
      "cell_type": "code",
      "execution_count": null,
      "metadata": {
        "colab": {
          "base_uri": "https://localhost:8080/"
        },
        "id": "BMA3-6pPk3nd",
        "outputId": "2e2d98cd-b87a-49ff-e36b-c5825c6a017f"
      },
      "outputs": [
        {
          "output_type": "stream",
          "name": "stdout",
          "text": [
            "0\n",
            "1\n",
            "2\n",
            "3\n",
            "4\n",
            "5\n",
            "6\n",
            "7\n",
            "8\n",
            "9\n",
            "10\n",
            "11\n",
            "12\n",
            "13\n",
            "14\n",
            "15\n",
            "16\n",
            "17\n",
            "18\n",
            "19\n",
            "20\n",
            "21\n",
            "22\n",
            "23\n",
            "24\n",
            "25\n",
            "26\n",
            "27\n",
            "28\n",
            "29\n",
            "30\n",
            "31\n",
            "32\n",
            "33\n",
            "34\n",
            "35\n",
            "36\n",
            "37\n",
            "38\n",
            "39\n",
            "40\n",
            "41\n",
            "42\n",
            "43\n",
            "44\n",
            "45\n",
            "46\n",
            "47\n",
            "48\n",
            "49\n",
            "50\n",
            "51\n",
            "52\n",
            "53\n",
            "54\n",
            "55\n",
            "56\n",
            "57\n",
            "58\n",
            "59\n",
            "60\n",
            "61\n",
            "62\n",
            "63\n",
            "64\n",
            "65\n",
            "66\n",
            "67\n",
            "68\n",
            "69\n",
            "70\n",
            "71\n",
            "72\n",
            "73\n",
            "74\n",
            "75\n",
            "76\n",
            "77\n",
            "78\n",
            "79\n",
            "80\n",
            "81\n",
            "82\n",
            "83\n",
            "84\n",
            "85\n",
            "86\n",
            "87\n",
            "88\n",
            "89\n",
            "90\n",
            "91\n",
            "92\n",
            "93\n",
            "94\n",
            "95\n",
            "96\n",
            "97\n",
            "98\n",
            "99\n"
          ]
        }
      ],
      "source": [
        "# Pythonic way\n",
        "for i in list_1:\n",
        "    print(i)"
      ]
    },
    {
      "cell_type": "code",
      "execution_count": null,
      "metadata": {
        "colab": {
          "base_uri": "https://localhost:8080/"
        },
        "id": "siFBNvF2k3nd",
        "outputId": "9e57be53-464e-40b9-c838-c4b815674b64"
      },
      "outputs": [
        {
          "output_type": "execute_result",
          "data": {
            "text/plain": [
              "True"
            ]
          },
          "metadata": {},
          "execution_count": 26
        }
      ],
      "source": [
        "25 in list_1"
      ]
    },
    {
      "cell_type": "code",
      "execution_count": null,
      "metadata": {
        "colab": {
          "base_uri": "https://localhost:8080/"
        },
        "id": "DDfoXvuWk3nd",
        "outputId": "580b442d-5b41-41e2-bc44-ad40e79c1da2"
      },
      "outputs": [
        {
          "output_type": "execute_result",
          "data": {
            "text/plain": [
              "False"
            ]
          },
          "metadata": {},
          "execution_count": 27
        }
      ],
      "source": [
        "-45 in list_1"
      ]
    },
    {
      "cell_type": "markdown",
      "metadata": {
        "id": "pdt091zzk3nd"
      },
      "source": [
        "### Exercise 4"
      ]
    },
    {
      "cell_type": "code",
      "execution_count": null,
      "metadata": {
        "id": "40pDcMcbk3nd"
      },
      "outputs": [],
      "source": [
        "list_1.sort(reverse=True)"
      ]
    },
    {
      "cell_type": "code",
      "execution_count": null,
      "metadata": {
        "colab": {
          "base_uri": "https://localhost:8080/"
        },
        "id": "rYgPS_nsk3ne",
        "outputId": "b448da02-b08a-4630-9917-0e2937cf9815"
      },
      "outputs": [
        {
          "output_type": "execute_result",
          "data": {
            "text/plain": [
              "[99,\n",
              " 98,\n",
              " 97,\n",
              " 96,\n",
              " 95,\n",
              " 94,\n",
              " 93,\n",
              " 92,\n",
              " 91,\n",
              " 90,\n",
              " 89,\n",
              " 88,\n",
              " 87,\n",
              " 86,\n",
              " 85,\n",
              " 84,\n",
              " 83,\n",
              " 82,\n",
              " 81,\n",
              " 80,\n",
              " 79,\n",
              " 78,\n",
              " 77,\n",
              " 76,\n",
              " 75,\n",
              " 74,\n",
              " 73,\n",
              " 72,\n",
              " 71,\n",
              " 70,\n",
              " 69,\n",
              " 68,\n",
              " 67,\n",
              " 66,\n",
              " 65,\n",
              " 64,\n",
              " 63,\n",
              " 62,\n",
              " 61,\n",
              " 60,\n",
              " 59,\n",
              " 58,\n",
              " 57,\n",
              " 56,\n",
              " 55,\n",
              " 54,\n",
              " 53,\n",
              " 52,\n",
              " 51,\n",
              " 50,\n",
              " 49,\n",
              " 48,\n",
              " 47,\n",
              " 46,\n",
              " 45,\n",
              " 44,\n",
              " 43,\n",
              " 42,\n",
              " 41,\n",
              " 40,\n",
              " 39,\n",
              " 38,\n",
              " 37,\n",
              " 36,\n",
              " 35,\n",
              " 34,\n",
              " 33,\n",
              " 32,\n",
              " 31,\n",
              " 30,\n",
              " 29,\n",
              " 28,\n",
              " 27,\n",
              " 26,\n",
              " 25,\n",
              " 24,\n",
              " 23,\n",
              " 22,\n",
              " 21,\n",
              " 20,\n",
              " 19,\n",
              " 18,\n",
              " 17,\n",
              " 16,\n",
              " 15,\n",
              " 14,\n",
              " 13,\n",
              " 12,\n",
              " 11,\n",
              " 10,\n",
              " 9,\n",
              " 8,\n",
              " 7,\n",
              " 6,\n",
              " 5,\n",
              " 4,\n",
              " 3,\n",
              " 2,\n",
              " 1,\n",
              " 0]"
            ]
          },
          "metadata": {},
          "execution_count": 30
        }
      ],
      "source": [
        "list_1"
      ]
    },
    {
      "cell_type": "code",
      "execution_count": null,
      "metadata": {
        "id": "iGq-oiZpk3ne"
      },
      "outputs": [],
      "source": [
        "# It had changed in-place before so it will be back to the original list after this. Two negatives is a positive\n",
        "list_1.reverse()"
      ]
    },
    {
      "cell_type": "code",
      "execution_count": null,
      "metadata": {
        "colab": {
          "base_uri": "https://localhost:8080/"
        },
        "id": "LbjJKFQck3ne",
        "outputId": "cb48f1a2-0d58-4479-de3d-961e81878b5d"
      },
      "outputs": [
        {
          "output_type": "execute_result",
          "data": {
            "text/plain": [
              "[0,\n",
              " 1,\n",
              " 2,\n",
              " 3,\n",
              " 4,\n",
              " 5,\n",
              " 6,\n",
              " 7,\n",
              " 8,\n",
              " 9,\n",
              " 10,\n",
              " 11,\n",
              " 12,\n",
              " 13,\n",
              " 14,\n",
              " 15,\n",
              " 16,\n",
              " 17,\n",
              " 18,\n",
              " 19,\n",
              " 20,\n",
              " 21,\n",
              " 22,\n",
              " 23,\n",
              " 24,\n",
              " 25,\n",
              " 26,\n",
              " 27,\n",
              " 28,\n",
              " 29,\n",
              " 30,\n",
              " 31,\n",
              " 32,\n",
              " 33,\n",
              " 34,\n",
              " 35,\n",
              " 36,\n",
              " 37,\n",
              " 38,\n",
              " 39,\n",
              " 40,\n",
              " 41,\n",
              " 42,\n",
              " 43,\n",
              " 44,\n",
              " 45,\n",
              " 46,\n",
              " 47,\n",
              " 48,\n",
              " 49,\n",
              " 50,\n",
              " 51,\n",
              " 52,\n",
              " 53,\n",
              " 54,\n",
              " 55,\n",
              " 56,\n",
              " 57,\n",
              " 58,\n",
              " 59,\n",
              " 60,\n",
              " 61,\n",
              " 62,\n",
              " 63,\n",
              " 64,\n",
              " 65,\n",
              " 66,\n",
              " 67,\n",
              " 68,\n",
              " 69,\n",
              " 70,\n",
              " 71,\n",
              " 72,\n",
              " 73,\n",
              " 74,\n",
              " 75,\n",
              " 76,\n",
              " 77,\n",
              " 78,\n",
              " 79,\n",
              " 80,\n",
              " 81,\n",
              " 82,\n",
              " 83,\n",
              " 84,\n",
              " 85,\n",
              " 86,\n",
              " 87,\n",
              " 88,\n",
              " 89,\n",
              " 90,\n",
              " 91,\n",
              " 92,\n",
              " 93,\n",
              " 94,\n",
              " 95,\n",
              " 96,\n",
              " 97,\n",
              " 98,\n",
              " 99]"
            ]
          },
          "metadata": {},
          "execution_count": 32
        }
      ],
      "source": [
        "list_1"
      ]
    },
    {
      "cell_type": "markdown",
      "metadata": {
        "id": "FEdvrPLdk3ne"
      },
      "source": [
        "### Exercise 5"
      ]
    },
    {
      "cell_type": "code",
      "execution_count": null,
      "metadata": {
        "id": "A89s3fvVk3ne"
      },
      "outputs": [],
      "source": [
        "import random\n",
        "list_1 = [random.randint(0, 30) for x in range (0, 100)]"
      ]
    },
    {
      "cell_type": "code",
      "execution_count": null,
      "metadata": {
        "colab": {
          "base_uri": "https://localhost:8080/"
        },
        "id": "T1_OOzM9k3ne",
        "outputId": "e1def963-5e50-4ef8-cc34-dbfa35f05dec"
      },
      "outputs": [
        {
          "output_type": "execute_result",
          "data": {
            "text/plain": [
              "[14,\n",
              " 13,\n",
              " 20,\n",
              " 17,\n",
              " 12,\n",
              " 23,\n",
              " 0,\n",
              " 3,\n",
              " 26,\n",
              " 18,\n",
              " 22,\n",
              " 24,\n",
              " 2,\n",
              " 28,\n",
              " 3,\n",
              " 30,\n",
              " 1,\n",
              " 3,\n",
              " 5,\n",
              " 15,\n",
              " 4,\n",
              " 24,\n",
              " 16,\n",
              " 3,\n",
              " 22,\n",
              " 4,\n",
              " 15,\n",
              " 1,\n",
              " 25,\n",
              " 22,\n",
              " 2,\n",
              " 4,\n",
              " 9,\n",
              " 1,\n",
              " 28,\n",
              " 14,\n",
              " 10,\n",
              " 25,\n",
              " 29,\n",
              " 2,\n",
              " 15,\n",
              " 16,\n",
              " 7,\n",
              " 19,\n",
              " 26,\n",
              " 23,\n",
              " 1,\n",
              " 7,\n",
              " 30,\n",
              " 23,\n",
              " 17,\n",
              " 16,\n",
              " 12,\n",
              " 6,\n",
              " 12,\n",
              " 3,\n",
              " 22,\n",
              " 16,\n",
              " 12,\n",
              " 5,\n",
              " 14,\n",
              " 19,\n",
              " 21,\n",
              " 23,\n",
              " 22,\n",
              " 16,\n",
              " 15,\n",
              " 0,\n",
              " 6,\n",
              " 19,\n",
              " 30,\n",
              " 15,\n",
              " 3,\n",
              " 5,\n",
              " 16,\n",
              " 16,\n",
              " 0,\n",
              " 25,\n",
              " 6,\n",
              " 5,\n",
              " 23,\n",
              " 7,\n",
              " 10,\n",
              " 12,\n",
              " 11,\n",
              " 24,\n",
              " 22,\n",
              " 15,\n",
              " 20,\n",
              " 20,\n",
              " 28,\n",
              " 19,\n",
              " 15,\n",
              " 26,\n",
              " 4,\n",
              " 12,\n",
              " 29,\n",
              " 0,\n",
              " 28,\n",
              " 30]"
            ]
          },
          "metadata": {},
          "execution_count": 34
        }
      ],
      "source": [
        "list_1"
      ]
    },
    {
      "cell_type": "code",
      "execution_count": null,
      "metadata": {
        "colab": {
          "base_uri": "https://localhost:8080/"
        },
        "id": "cHt3uusok3nf",
        "outputId": "d8f67fcf-b9b1-4852-e62a-ce57146b6e55"
      },
      "outputs": [
        {
          "output_type": "execute_result",
          "data": {
            "text/plain": [
              "[14,\n",
              " 13,\n",
              " 20,\n",
              " 17,\n",
              " 12,\n",
              " 23,\n",
              " 0,\n",
              " 3,\n",
              " 26,\n",
              " 18,\n",
              " 22,\n",
              " 24,\n",
              " 2,\n",
              " 28,\n",
              " 30,\n",
              " 1,\n",
              " 5,\n",
              " 15,\n",
              " 4,\n",
              " 16,\n",
              " 25,\n",
              " 9,\n",
              " 10,\n",
              " 29,\n",
              " 7,\n",
              " 19,\n",
              " 6,\n",
              " 21,\n",
              " 11]"
            ]
          },
          "metadata": {},
          "execution_count": 35
        }
      ],
      "source": [
        "# Manual way of getting unique numbered list from the above.\n",
        "unique_number_list = []\n",
        "for x in list_1:\n",
        "    if x not in unique_number_list:\n",
        "        unique_number_list.append(x)\n",
        "unique_number_list"
      ]
    },
    {
      "cell_type": "code",
      "execution_count": null,
      "metadata": {
        "colab": {
          "base_uri": "https://localhost:8080/"
        },
        "id": "hJr3lpzAk3nf",
        "outputId": "db8cb260-eb4f-46bf-bbf5-e228efba8ef1"
      },
      "outputs": [
        {
          "output_type": "execute_result",
          "data": {
            "text/plain": [
              "29"
            ]
          },
          "metadata": {},
          "execution_count": 36
        }
      ],
      "source": [
        "len(unique_number_list)"
      ]
    },
    {
      "cell_type": "code",
      "source": [],
      "metadata": {
        "id": "MJOz9E9-mQZ3"
      },
      "execution_count": null,
      "outputs": []
    }
  ],
  "metadata": {
    "kernelspec": {
      "display_name": "Python 3",
      "name": "python3"
    },
    "language_info": {
      "codemirror_mode": {
        "name": "ipython",
        "version": 3
      },
      "file_extension": ".py",
      "mimetype": "text/x-python",
      "name": "python",
      "nbconvert_exporter": "python",
      "pygments_lexer": "ipython3",
      "version": "3.6.6"
    },
    "colab": {
      "provenance": []
    }
  },
  "nbformat": 4,
  "nbformat_minor": 0
}